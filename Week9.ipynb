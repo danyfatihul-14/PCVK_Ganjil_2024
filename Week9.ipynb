{
  "nbformat": 4,
  "nbformat_minor": 0,
  "metadata": {
    "colab": {
      "provenance": [],
      "authorship_tag": "ABX9TyODm2VrFs7pHHvbtz5IUflx",
      "include_colab_link": true
    },
    "kernelspec": {
      "name": "python3",
      "display_name": "Python 3"
    },
    "language_info": {
      "name": "python"
    }
  },
  "cells": [
    {
      "cell_type": "markdown",
      "metadata": {
        "id": "view-in-github",
        "colab_type": "text"
      },
      "source": [
        "<a href=\"https://colab.research.google.com/github/danyfatihul-14/PCVK_Ganjil_2024/blob/main/Week9.ipynb\" target=\"_parent\"><img src=\"https://colab.research.google.com/assets/colab-badge.svg\" alt=\"Open In Colab\"/></a>"
      ]
    },
    {
      "cell_type": "markdown",
      "source": [
        "#Nama: Dany Fatihul Ihsan\n",
        "#Kelas: TI-3B\n",
        "#No: 06"
      ],
      "metadata": {
        "id": "AJlqWFtrSqjI"
      }
    },
    {
      "cell_type": "code",
      "execution_count": null,
      "metadata": {
        "id": "hCk9ZRv69McQ"
      },
      "outputs": [],
      "source": []
    }
  ]
}